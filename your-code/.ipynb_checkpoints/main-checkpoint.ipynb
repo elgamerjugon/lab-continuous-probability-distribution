{
 "cells": [
  {
   "cell_type": "markdown",
   "metadata": {},
   "source": [
    "# Before your start:\n",
    "\n",
    "    Read the README.md file\n",
    "    Comment as much as you can and use the resources (README.md file)\n",
    "    Happy learning!"
   ]
  },
  {
   "cell_type": "markdown",
   "metadata": {},
   "source": [
    "In this exercise, we  will generate random numbers from the continuous disributions we learned in the lesson. There are two ways to generate random numbers:\n",
    "\n",
    "1. Using the numpy library \n",
    "1. using the Scipy library \n",
    "\n",
    "Use either or both of the lbraries in this exercise."
   ]
  },
  {
   "cell_type": "markdown",
   "metadata": {},
   "source": [
    "## Uniform Distribution\n",
    "\n",
    "To generate uniform random numbers between any two given values using scipy, we can either use the following code or the code that we have\n",
    "discussed in class:"
   ]
  },
  {
   "cell_type": "code",
   "execution_count": 1,
   "metadata": {},
   "outputs": [
    {
     "name": "stdout",
     "output_type": "stream",
     "text": [
      "[2.67911846 2.96438298 2.65319152 2.42547445 2.10537597 2.7277763\n",
      " 2.056039   2.08991631 2.99367622 2.60871463]\n"
     ]
    }
   ],
   "source": [
    "from scipy.stats import uniform\n",
    "x = uniform.rvs(size=10)\n",
    "a = 2\n",
    "b = 3\n",
    "randoms  = a + (b-a)*x\n",
    "print(randoms)"
   ]
  },
  {
   "cell_type": "markdown",
   "metadata": {},
   "source": [
    "**Your task:**\n",
    "\n",
    "1. Based on the code above, write a function that generates uniformly distributed random numbers. There are several requirements for your function:\n",
    "    * It should accept 3 parameters: \n",
    "        * `bottom` - the lower boundary of the generated numbers\n",
    "        * `ceiling` - the upper boundary of the generated numbers\n",
    "        * `count` - how many numbers to generate\n",
    "    * It should return an array of uniformly distributed random numbers\n",
    "\n",
    "1. Call your function with 2 sets of params below:\n",
    "    * bottom=10, ceiling=15, count=100\n",
    "    * bottom=10, ceiling=60, count=1,000\n",
    "\n",
    "1. Plot the uniform distributions generated above using histograms, where x axis is the value and y axis is the count. Let the histogram's number of bins be 10.\n",
    "\n",
    "Your output should look like below:\n",
    "\n",
    "![uniform distribution](ud.png)"
   ]
  },
  {
   "cell_type": "code",
   "execution_count": 9,
   "metadata": {},
   "outputs": [],
   "source": [
    "import numpy as np\n",
    "import matplotlib.pyplot as plt\n",
    "# your code here\n",
    "def uniform_distributed(bottom, ceiling, count):\n",
    "    random_numbers = np.random.uniform(bottom, ceiling, count)\n",
    "    return random_numbers"
   ]
  },
  {
   "cell_type": "markdown",
   "metadata": {},
   "source": [
    "How are the two distributions different?"
   ]
  },
  {
   "cell_type": "code",
   "execution_count": 23,
   "metadata": {},
   "outputs": [
    {
     "data": {
      "text/plain": [
       "(array([ 86., 111., 104.,  93., 105.,  97.,  94., 114.,  96., 100.]),\n",
       " array([10.03417201, 15.02148063, 20.00878925, 24.99609786, 29.98340648,\n",
       "        34.9707151 , 39.95802372, 44.94533234, 49.93264096, 54.91994957,\n",
       "        59.90725819]),\n",
       " <a list of 10 Patch objects>)"
      ]
     },
     "execution_count": 23,
     "metadata": {},
     "output_type": "execute_result"
    },
    {
     "data": {
      "text/plain": [
       "<Figure size 432x288 with 0 Axes>"
      ]
     },
     "metadata": {},
     "output_type": "display_data"
    },
    {
     "data": {
      "image/png": "[encoded data removed]",
      "text/plain": [
       "<Figure size 432x288 with 2 Axes>"
      ]
     },
     "metadata": {
      "needs_background": "light"
     },
     "output_type": "display_data"
    }
   ],
   "source": [
    "# your answer below\n",
    "\n",
    "random_1 = uniform_distributed(10, 15, 100)\n",
    "random_2 = uniform_distributed(10, 60, 1000)\n",
    "\n",
    "plt.figure()\n",
    "\n",
    "fig, [fig_1, fig_2] = plt.subplots(1, 2)\n",
    "fig_1.hist(random_1)\n",
    "fig_2.hist(random_2)"
   ]
  },
  {
   "cell_type": "markdown",
   "metadata": {},
   "source": [
    "## Normal Distribution\n",
    "\n",
    "1. In the same way in the Uniform Distribution challenge, write a function that generates normally distributed random numbers.\n",
    "1. Generate 1,000 normally distributed numbers with the average of 10 and standard deviation of 1\n",
    "1. Generate 1,000 normally distributed numbers with the average of 10 and standard deviation of 50\n",
    "2. Plot the distributions of the data generated.\n",
    "\n",
    "Expected output:\n",
    "\n",
    "![normal distribution](nd.png)"
   ]
  },
  {
   "cell_type": "code",
   "execution_count": 26,
   "metadata": {},
   "outputs": [],
   "source": [
    "# your code here\n",
    "def normal_distributed(avg, std, count):\n",
    "    return np.random.normal(avg, std, count)"
   ]
  },
  {
   "cell_type": "markdown",
   "metadata": {},
   "source": [
    "How are the two distributions different?"
   ]
  },
  {
   "cell_type": "code",
   "execution_count": 27,
   "metadata": {},
   "outputs": [
    {
     "data": {
      "text/plain": [
       "(array([ 1.,  1.,  0.,  0.,  0.,  0.,  0.,  0.,  0.,  1.,  0.,  6.,  3.,\n",
       "         6.,  7.,  5., 12., 18., 15., 19., 20., 33., 28., 34., 39., 41.,\n",
       "        39., 45., 46., 48., 36., 40., 42., 57., 50., 38., 40., 29., 30.,\n",
       "        26., 25., 25., 19., 15., 11., 14.,  7.,  8.,  2.,  7.,  3.,  2.,\n",
       "         1.,  2.,  2.,  1.,  0.,  0.,  0.,  1.]),\n",
       " array([-175.64924286, -169.74583069, -163.84241852, -157.93900634,\n",
       "        -152.03559417, -146.132182  , -140.22876982, -134.32535765,\n",
       "        -128.42194548, -122.51853331, -116.61512113, -110.71170896,\n",
       "        -104.80829679,  -98.90488461,  -93.00147244,  -87.09806027,\n",
       "         -81.1946481 ,  -75.29123592,  -69.38782375,  -63.48441158,\n",
       "         -57.5809994 ,  -51.67758723,  -45.77417506,  -39.87076289,\n",
       "         -33.96735071,  -28.06393854,  -22.16052637,  -16.25711419,\n",
       "         -10.35370202,   -4.45028985,    1.45312232,    7.3565345 ,\n",
       "          13.25994667,   19.16335884,   25.06677101,   30.97018319,\n",
       "          36.87359536,   42.77700753,   48.68041971,   54.58383188,\n",
       "          60.48724405,   66.39065622,   72.2940684 ,   78.19748057,\n",
       "          84.10089274,   90.00430492,   95.90771709,  101.81112926,\n",
       "         107.71454143,  113.61795361,  119.52136578,  125.42477795,\n",
       "         131.32819013,  137.2316023 ,  143.13501447,  149.03842664,\n",
       "         154.94183882,  160.84525099,  166.74866316,  172.65207534,\n",
       "         178.55548751]),\n",
       " <a list of 60 Patch objects>)"
      ]
     },
     "execution_count": 27,
     "metadata": {},
     "output_type": "execute_result"
    },
    {
     "data": {
      "image/png": "[encoded data removed]",
      "text/plain": [
       "<Figure size 432x288 with 2 Axes>"
      ]
     },
     "metadata": {
      "needs_background": "light"
     },
     "output_type": "display_data"
    }
   ],
   "source": [
    "# your answer below\n",
    "import math\n",
    "from scipy.stats import norm\n",
    "\n",
    "normal_1 = normal_distributed(10, 1, 1000)\n",
    "normal_2 = normal_distributed(10, 50, 1000)\n",
    "\n",
    "fig, [fig_3, fig_4] = plt.subplots(1, 2)\n",
    "\n",
    "fig_3.hist(normal_1, bins = 60)\n",
    "fig_4.hist(normal_2, bins = 60)"
   ]
  },
  {
   "cell_type": "markdown",
   "metadata": {},
   "source": [
    "## Normal Distribution of Real Data\n",
    "\n",
    "In this challenge we are going to take a look the real data. We will use vehicles.csv file for this exercise"
   ]
  },
  {
   "cell_type": "markdown",
   "metadata": {},
   "source": [
    "First import vehicles.csv.\n",
    "Then plot the histograms for the following variables:\n",
    "\n",
    "1. Fuel Barrels/Year"
   ]
  },
  {
   "cell_type": "code",
   "execution_count": 34,
   "metadata": {},
   "outputs": [
    {
     "data": {
      "text/plain": [
       "(array([8.1000e+01, 3.7400e+02, 6.7650e+03, 1.7039e+04, 8.9660e+03,\n",
       "        2.0960e+03, 5.6900e+02, 3.6000e+01, 2.1000e+01, 5.0000e+00]),\n",
       " array([ 0.06      ,  4.76271429,  9.46542857, 14.16814286, 18.87085714,\n",
       "        23.57357143, 28.27628571, 32.979     , 37.68171429, 42.38442857,\n",
       "        47.08714286]),\n",
       " <a list of 10 Patch objects>)"
      ]
     },
     "execution_count": 34,
     "metadata": {},
     "output_type": "execute_result"
    },
    {
     "data": {
      "image/png": "[encoded data removed]",
      "text/plain": [
       "<Figure size 432x288 with 1 Axes>"
      ]
     },
     "metadata": {
      "needs_background": "light"
     },
     "output_type": "display_data"
    }
   ],
   "source": [
    "import pandas as pd\n",
    "# your code here\n",
    "vehicles_df = pd.read_csv(\"vehicles.csv\")\n",
    "vehicles_df.head()\n",
    "\n",
    "fig, fig_5 = plt.subplots(1, 1)\n",
    "fig_5.hist(vehicles_df[\"Fuel Barrels/Year\"])"
   ]
  },
  {
   "cell_type": "markdown",
   "metadata": {},
   "source": [
    "2. CO2 Emission Grams/Mile "
   ]
  },
  {
   "cell_type": "code",
   "execution_count": 35,
   "metadata": {},
   "outputs": [
    {
     "data": {
      "text/plain": [
       "(array([3.4000e+01, 8.3200e+02, 1.0205e+04, 1.5411e+04, 6.8250e+03,\n",
       "        2.0100e+03, 5.7300e+02, 3.6000e+01, 2.1000e+01, 5.0000e+00]),\n",
       " array([  37.        ,  160.25714286,  283.51428571,  406.77142857,\n",
       "         530.02857143,  653.28571429,  776.54285714,  899.8       ,\n",
       "        1023.05714286, 1146.31428571, 1269.57142857]),\n",
       " <a list of 10 Patch objects>)"
      ]
     },
     "execution_count": 35,
     "metadata": {},
     "output_type": "execute_result"
    },
    {
     "data": {
      "image/png": "[encoded data removed]",
      "text/plain": [
       "<Figure size 432x288 with 1 Axes>"
      ]
     },
     "metadata": {
      "needs_background": "light"
     },
     "output_type": "display_data"
    }
   ],
   "source": [
    "# your code here\n",
    "fig, fig_6 = plt.subplots(1, 1)\n",
    "fig_6.hist(vehicles_df[\"CO2 Emission Grams/Mile\"])"
   ]
  },
  {
   "cell_type": "markdown",
   "metadata": {},
   "source": [
    "3. Combined MPG"
   ]
  },
  {
   "cell_type": "code",
   "execution_count": 36,
   "metadata": {},
   "outputs": [
    {
     "data": {
      "text/plain": [
       "(array([6.3800e+02, 8.4990e+03, 1.5512e+04, 7.9320e+03, 2.4160e+03,\n",
       "        6.3600e+02, 2.1000e+02, 6.5000e+01, 3.3000e+01, 1.1000e+01]),\n",
       " array([ 7. , 11.9, 16.8, 21.7, 26.6, 31.5, 36.4, 41.3, 46.2, 51.1, 56. ]),\n",
       " <a list of 10 Patch objects>)"
      ]
     },
     "execution_count": 36,
     "metadata": {},
     "output_type": "execute_result"
    },
    {
     "data": {
      "image/png": "[encoded data removed]",
      "text/plain": [
       "<Figure size 432x288 with 1 Axes>"
      ]
     },
     "metadata": {
      "needs_background": "light"
     },
     "output_type": "display_data"
    }
   ],
   "source": [
    "# your code here\n",
    "fig, fig_7 = plt.subplots(1, 1)\n",
    "fig_7.hist(vehicles_df[\"Combined MPG\"])"
   ]
  },
  {
   "cell_type": "markdown",
   "metadata": {},
   "source": [
    "Which one(s) of the variables are nearly normally distributed? How do you know?"
   ]
  },
  {
   "cell_type": "code",
   "execution_count": null,
   "metadata": {},
   "outputs": [],
   "source": [
    "# your answer here\n",
    "#The one that is nearly alike a normally distributed graph is the third one because the graph is almost symetric"
   ]
  },
  {
   "cell_type": "markdown",
   "metadata": {},
   "source": [
    "## Exponential Distribution"
   ]
  },
  {
   "cell_type": "markdown",
   "metadata": {},
   "source": [
    "1. Using `numpy.random.exponential`, create a function that returns a list of numbers exponentially distributed with the mean of 10. \n",
    "\n",
    "1. Use the function to generate two number sequences with the size of 1 and 100.\n",
    "\n",
    "1. Plot the distributions as histograms with the nubmer of bins as 100.\n",
    "\n",
    "Your output should look like below:\n",
    "\n",
    "![exponential distribution](ed.png)"
   ]
  },
  {
   "cell_type": "code",
   "execution_count": 54,
   "metadata": {},
   "outputs": [
    {
     "data": {
      "text/plain": [
       "(array([2., 2., 6., 4., 2., 6., 4., 6., 5., 2., 3., 2., 4., 3., 3., 4., 2.,\n",
       "        2., 3., 1., 1., 0., 2., 2., 2., 0., 1., 1., 1., 1., 1., 2., 2., 0.,\n",
       "        1., 1., 0., 1., 1., 1., 0., 1., 1., 1., 1., 0., 0., 1., 0., 0., 0.,\n",
       "        0., 0., 2., 0., 0., 0., 0., 0., 0., 0., 0., 0., 0., 0., 0., 1., 0.,\n",
       "        0., 0., 0., 0., 0., 0., 0., 0., 0., 0., 0., 1., 0., 0., 0., 0., 1.,\n",
       "        0., 0., 0., 0., 0., 0., 0., 1., 0., 0., 0., 0., 0., 1., 1.]),\n",
       " array([3.29315583e-02, 4.91744961e-01, 9.50558364e-01, 1.40937177e+00,\n",
       "        1.86818517e+00, 2.32699857e+00, 2.78581198e+00, 3.24462538e+00,\n",
       "        3.70343878e+00, 4.16225219e+00, 4.62106559e+00, 5.07987899e+00,\n",
       "        5.53869239e+00, 5.99750580e+00, 6.45631920e+00, 6.91513260e+00,\n",
       "        7.37394601e+00, 7.83275941e+00, 8.29157281e+00, 8.75038622e+00,\n",
       "        9.20919962e+00, 9.66801302e+00, 1.01268264e+01, 1.05856398e+01,\n",
       "        1.10444532e+01, 1.15032666e+01, 1.19620800e+01, 1.24208934e+01,\n",
       "        1.28797068e+01, 1.33385202e+01, 1.37973336e+01, 1.42561471e+01,\n",
       "        1.47149605e+01, 1.51737739e+01, 1.56325873e+01, 1.60914007e+01,\n",
       "        1.65502141e+01, 1.70090275e+01, 1.74678409e+01, 1.79266543e+01,\n",
       "        1.83854677e+01, 1.88442811e+01, 1.93030945e+01, 1.97619079e+01,\n",
       "        2.02207213e+01, 2.06795347e+01, 2.11383481e+01, 2.15971615e+01,\n",
       "        2.20559749e+01, 2.25147883e+01, 2.29736017e+01, 2.34324151e+01,\n",
       "        2.38912285e+01, 2.43500419e+01, 2.48088553e+01, 2.52676687e+01,\n",
       "        2.57264821e+01, 2.61852955e+01, 2.66441089e+01, 2.71029223e+01,\n",
       "        2.75617357e+01, 2.80205491e+01, 2.84793625e+01, 2.89381760e+01,\n",
       "        2.93969894e+01, 2.98558028e+01, 3.03146162e+01, 3.07734296e+01,\n",
       "        3.12322430e+01, 3.16910564e+01, 3.21498698e+01, 3.26086832e+01,\n",
       "        3.30674966e+01, 3.35263100e+01, 3.39851234e+01, 3.44439368e+01,\n",
       "        3.49027502e+01, 3.53615636e+01, 3.58203770e+01, 3.62791904e+01,\n",
       "        3.67380038e+01, 3.71968172e+01, 3.76556306e+01, 3.81144440e+01,\n",
       "        3.85732574e+01, 3.90320708e+01, 3.94908842e+01, 3.99496976e+01,\n",
       "        4.04085110e+01, 4.08673244e+01, 4.13261378e+01, 4.17849512e+01,\n",
       "        4.22437646e+01, 4.27025780e+01, 4.31613914e+01, 4.36202048e+01,\n",
       "        4.40790183e+01, 4.45378317e+01, 4.49966451e+01, 4.54554585e+01,\n",
       "        4.59142719e+01]),\n",
       " <a list of 100 Patch objects>)"
      ]
     },
     "execution_count": 54,
     "metadata": {},
     "output_type": "execute_result"
    },
    {
     "data": {
      "image/png": "[encoded data removed]",
      "text/plain": [
       "<Figure size 432x288 with 2 Axes>"
      ]
     },
     "metadata": {
      "needs_background": "light"
     },
     "output_type": "display_data"
    }
   ],
   "source": [
    "# your code here\n",
    "def exponential_distribution(mean, size):\n",
    "    return np.random.exponential(mean, size)\n",
    "\n",
    "exp_1 = exponential_distribution(10, 100)\n",
    "exp_2 = exponential_distribution(10, 100)\n",
    "\n",
    "fig, [fig_8, fig_9] = plt.subplots(1, 2)\n",
    "fig_8.hist(exp_1, bins = 100)\n",
    "fig_9.hist(exp_2, bins = 100)"
   ]
  },
  {
   "cell_type": "markdown",
   "metadata": {},
   "source": [
    "How are the two distributions different?"
   ]
  },
  {
   "cell_type": "code",
   "execution_count": null,
   "metadata": {},
   "outputs": [],
   "source": [
    "# your answer here\n",
    "#Only the values of the range in the x axis is changing so the are alike"
   ]
  },
  {
   "cell_type": "markdown",
   "metadata": {},
   "source": [
    "## Exponential Distribution of Real Data\n",
    "\n",
    "Suppose that the amount of time one spends in a bank is exponentially distributed with mean as 10 minutes (i.e. λ = 1/10). What is the probability that a customer will spend less than fifteen minutes in the bank? \n",
    "\n",
    "Write a code in python to solve this problem"
   ]
  },
  {
   "cell_type": "code",
   "execution_count": 55,
   "metadata": {},
   "outputs": [
    {
     "data": {
      "text/plain": [
       "0.7768698398515702"
      ]
     },
     "execution_count": 55,
     "metadata": {},
     "output_type": "execute_result"
    }
   ],
   "source": [
    "from scipy import stats\n",
    "from scipy.stats import expon\n",
    "\n",
    "expon.cdf(15, loc=0, scale=10) #Calcula P(X<10)\n",
    "\n",
    "# your answer here\n",
    "# Hint: This is same as saying P(x<15)"
   ]
  },
  {
   "cell_type": "markdown",
   "metadata": {},
   "source": [
    "What is the probability that the customer will spend more than 15 minutes"
   ]
  },
  {
   "cell_type": "code",
   "execution_count": null,
   "metadata": {},
   "outputs": [],
   "source": [
    "# your answer here\n",
    "#The probability is 77.69% that it will spend less that 15 minutes"
   ]
  },
  {
   "cell_type": "code",
   "execution_count": null,
   "metadata": {},
   "outputs": [],
   "source": []
  }
 ],
 "metadata": {
  "kernelspec": {
   "display_name": "Python 3",
   "language": "python",
   "name": "python3"
  },
  "language_info": {
   "codemirror_mode": {
    "name": "ipython",
    "version": 3
   },
   "file_extension": ".py",
   "mimetype": "text/x-python",
   "name": "python",
   "nbconvert_exporter": "python",
   "pygments_lexer": "ipython3",
   "version": "3.7.3"
  }
 },
 "nbformat": 4,
 "nbformat_minor": 2
}
